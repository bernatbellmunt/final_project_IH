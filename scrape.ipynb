{
 "cells": [
  {
   "cell_type": "code",
   "execution_count": 1,
   "metadata": {},
   "outputs": [
    {
     "data": {
      "text/plain": [
       "'/Users/bernat/opt/anaconda3/envs/ironhack/lib/python3.9/site-packages/chromedriver_autoinstaller/107/chromedriver'"
      ]
     },
     "execution_count": 1,
     "metadata": {},
     "output_type": "execute_result"
    }
   ],
   "source": [
    "import chromedriver_autoinstaller\n",
    "chromedriver_autoinstaller.install()"
   ]
  },
  {
   "cell_type": "code",
   "execution_count": 1,
   "metadata": {},
   "outputs": [],
   "source": [
    "from selenium import webdriver\n",
    "from selenium.webdriver.common.keys import Keys\n",
    "from selenium.webdriver.common.by import By\n",
    "from selenium.webdriver.support.ui import WebDriverWait\n",
    "from selenium.webdriver.support import expected_conditions as EC\n",
    "from selenium import webdriver\n",
    "from selenium.webdriver.support.ui import Select\n",
    "\n",
    "from bs4 import BeautifulSoup\n",
    "import re as re\n",
    "import time\n",
    "import pandas as pd\n",
    "import os\n",
    "import numpy as np\n",
    "import requests\n",
    "import pymysql\n",
    "import sqlalchemy as alch\n",
    "from getpass import getpass\n",
    "\n",
    "import googletrans\n",
    "from nltk.sentiment.vader import SentimentIntensityAnalyzer\n",
    "import spacy\n",
    "\n"
   ]
  },
  {
   "cell_type": "code",
   "execution_count": 2,
   "metadata": {},
   "outputs": [
    {
     "name": "stdout",
     "output_type": "stream",
     "text": [
      "4012\n"
     ]
    }
   ],
   "source": [
    "driver = webdriver.Chrome()\n",
    "\n",
    "url = \"https://www.museodelprado.es/en/the-collection/art-works\"\n",
    "\n",
    "driver.get(url)\n",
    "options = webdriver.ChromeOptions()\n",
    "options.add_argument(\"--incognito\")\n",
    "\n",
    "time.sleep(20)\n",
    "accept_cookies = driver.find_element(By.ID,\"onetrust-accept-btn-handler\").click()\n",
    "\n",
    "start = time.time()\n",
    "last_height = driver.execute_script(\"return document.body.scrollHeight\")\n",
    "print(last_height)\n",
    "while True:\n",
    "    driver.execute_script(\"window.scrollTo(0, document.body.scrollHeight);\")\n",
    "    time.sleep(5)\n",
    "    new_height = driver.execute_script(\"return document.body.scrollHeight\")\n",
    "    if new_height == last_height:\n",
    "        break\n",
    "    last_height = new_height\n",
    "    end = time.time()\n",
    "    if round(end-start) > 70:\n",
    "        break\n",
    "html = driver.execute_script(\"return document.body.outerHTML;\")"
   ]
  },
  {
   "cell_type": "code",
   "execution_count": 3,
   "metadata": {},
   "outputs": [],
   "source": [
    "#Functions!!!!!!!\n",
    "\n",
    "#title\n",
    "def get_title(html_content):\n",
    "    soup = BeautifulSoup(html_content, \"html.parser\")\n",
    "    word=\"dt\"\n",
    "\n",
    "    tags = soup.find_all(word)\n",
    "    titles=[c.getText().replace(\">\", \"\").strip() for c in tags]\n",
    "    #the first 44 items are from the menu -> we don't want this, then, titles are duplicated!!!!\n",
    "    titles = titles[44:]\n",
    "    newtitles=[]\n",
    "    i=0\n",
    "    while i < len(titles):\n",
    "        newtitles.append(titles[i])\n",
    "        i+=2\n",
    "    return newtitles\n",
    "\n",
    "#subtitle\n",
    "def get_subtitle(html_content):\n",
    "    soup = BeautifulSoup(html_content, \"html.parser\")\n",
    "    word=\"dd\"\n",
    "\n",
    "    tags = soup.find_all(word, attrs={\"class\":\"soporte\"})\n",
    "    subtitles=[c.getText().replace(\">\", \"\").strip() for c in tags]\n",
    "\n",
    "    newsub=[]\n",
    "    i=0\n",
    "    while i < len(subtitles):\n",
    "        newsub.append(subtitles[i])\n",
    "        i+=2\n",
    "\n",
    "    return newsub\n",
    "\n",
    "\n",
    "#author\n",
    "def get_author(html_content):\n",
    "    soup = BeautifulSoup(html_content, \"html.parser\")\n",
    "    word=\"dd\"\n",
    "\n",
    "    tags = soup.find_all(word, attrs={\"class\":\"autor\"})\n",
    "    authors=[c.getText().replace(\">\", \"\").strip() for c in tags]\n",
    "    newaut=[]\n",
    "    i=0\n",
    "    while i < len(authors):\n",
    "        newaut.append(authors[i])\n",
    "        i+=2\n",
    "    return newaut\n",
    "\n",
    "#images\n",
    "def get_image_list(html_content):\n",
    "    soup = BeautifulSoup(html_content, \"html.parser\")\n",
    "    pics = soup.find_all(\"img\")\n",
    "    image_list=[]\n",
    "    for i in range(1,len(pics)-7):\n",
    "        image_list.append(pics[i].get(\"src\"))    \n",
    "    return image_list"
   ]
  },
  {
   "cell_type": "code",
   "execution_count": 4,
   "metadata": {},
   "outputs": [],
   "source": [
    "#OK -> this function will give me the links of the images\n",
    "images=get_image_list(html)\n"
   ]
  },
  {
   "cell_type": "code",
   "execution_count": 5,
   "metadata": {},
   "outputs": [],
   "source": [
    "#subtitle\n",
    "subtitles=get_subtitle(html)\n"
   ]
  },
  {
   "cell_type": "code",
   "execution_count": 6,
   "metadata": {},
   "outputs": [],
   "source": [
    "#author\n",
    "\n",
    "artists = get_author(html)"
   ]
  },
  {
   "cell_type": "code",
   "execution_count": 7,
   "metadata": {},
   "outputs": [],
   "source": [
    "#title\n",
    "\n",
    "titles=get_title(html)"
   ]
  },
  {
   "cell_type": "code",
   "execution_count": 8,
   "metadata": {},
   "outputs": [],
   "source": [
    "prado_df = pd.DataFrame({\"title\":titles, \"subtitle\":subtitles, \"artist\":artists, \"img_link\": images})"
   ]
  },
  {
   "cell_type": "code",
   "execution_count": 9,
   "metadata": {},
   "outputs": [
    {
     "data": {
      "text/html": [
       "<div>\n",
       "<style scoped>\n",
       "    .dataframe tbody tr th:only-of-type {\n",
       "        vertical-align: middle;\n",
       "    }\n",
       "\n",
       "    .dataframe tbody tr th {\n",
       "        vertical-align: top;\n",
       "    }\n",
       "\n",
       "    .dataframe thead th {\n",
       "        text-align: right;\n",
       "    }\n",
       "</style>\n",
       "<table border=\"1\" class=\"dataframe\">\n",
       "  <thead>\n",
       "    <tr style=\"text-align: right;\">\n",
       "      <th></th>\n",
       "      <th>title</th>\n",
       "      <th>subtitle</th>\n",
       "      <th>artist</th>\n",
       "      <th>img_link</th>\n",
       "    </tr>\n",
       "  </thead>\n",
       "  <tbody>\n",
       "    <tr>\n",
       "      <th>0</th>\n",
       "      <td>Christ Pantocrator held by four Angels, Hermit...</td>\n",
       "      <td>Fresco painting on mural transferred to canvas...</td>\n",
       "      <td>Anonymous</td>\n",
       "      <td>https://content3.cdnprado.net/imagenes/Documen...</td>\n",
       "    </tr>\n",
       "    <tr>\n",
       "      <th>1</th>\n",
       "      <td>Lower Part of God the Father, Hermitage of Ver...</td>\n",
       "      <td>Fresco painting on mural transferred to canvas...</td>\n",
       "      <td>Anonymous</td>\n",
       "      <td>https://content3.cdnprado.net/imagenes/Documen...</td>\n",
       "    </tr>\n",
       "    <tr>\n",
       "      <th>2</th>\n",
       "      <td>Mary Magdalene, Hermitage of Vera Cruz, Maderu...</td>\n",
       "      <td>Fresco painting on mural transferred to canvas...</td>\n",
       "      <td>Anonymous</td>\n",
       "      <td>https://content3.cdnprado.net/imagenes/Documen...</td>\n",
       "    </tr>\n",
       "    <tr>\n",
       "      <th>3</th>\n",
       "      <td>The Adoration of a Wise Man, Hermitage of Vera...</td>\n",
       "      <td>Fresco painting on mural transferred to canvas...</td>\n",
       "      <td>Anonymous</td>\n",
       "      <td>https://content3.cdnprado.net/imagenes/Documen...</td>\n",
       "    </tr>\n",
       "    <tr>\n",
       "      <th>4</th>\n",
       "      <td>Two Apostles and the Remains of a Third, Hermi...</td>\n",
       "      <td>Fresco painting on mural transferred to canvas...</td>\n",
       "      <td>Anonymous</td>\n",
       "      <td>https://content3.cdnprado.net/imagenes/Documen...</td>\n",
       "    </tr>\n",
       "  </tbody>\n",
       "</table>\n",
       "</div>"
      ],
      "text/plain": [
       "                                               title  \\\n",
       "0  Christ Pantocrator held by four Angels, Hermit...   \n",
       "1  Lower Part of God the Father, Hermitage of Ver...   \n",
       "2  Mary Magdalene, Hermitage of Vera Cruz, Maderu...   \n",
       "3  The Adoration of a Wise Man, Hermitage of Vera...   \n",
       "4  Two Apostles and the Remains of a Third, Hermi...   \n",
       "\n",
       "                                            subtitle     artist  \\\n",
       "0  Fresco painting on mural transferred to canvas...  Anonymous   \n",
       "1  Fresco painting on mural transferred to canvas...  Anonymous   \n",
       "2  Fresco painting on mural transferred to canvas...  Anonymous   \n",
       "3  Fresco painting on mural transferred to canvas...  Anonymous   \n",
       "4  Fresco painting on mural transferred to canvas...  Anonymous   \n",
       "\n",
       "                                            img_link  \n",
       "0  https://content3.cdnprado.net/imagenes/Documen...  \n",
       "1  https://content3.cdnprado.net/imagenes/Documen...  \n",
       "2  https://content3.cdnprado.net/imagenes/Documen...  \n",
       "3  https://content3.cdnprado.net/imagenes/Documen...  \n",
       "4  https://content3.cdnprado.net/imagenes/Documen...  "
      ]
     },
     "execution_count": 9,
     "metadata": {},
     "output_type": "execute_result"
    }
   ],
   "source": [
    "prado_df.head()"
   ]
  },
  {
   "cell_type": "code",
   "execution_count": null,
   "metadata": {},
   "outputs": [],
   "source": [
    "# I will split the years, that are contained in \n",
    "\n",
    "prado_df[\"subtitle\"]"
   ]
  }
 ],
 "metadata": {
  "kernelspec": {
   "display_name": "ironhack",
   "language": "python",
   "name": "python3"
  },
  "language_info": {
   "codemirror_mode": {
    "name": "ipython",
    "version": 3
   },
   "file_extension": ".py",
   "mimetype": "text/x-python",
   "name": "python",
   "nbconvert_exporter": "python",
   "pygments_lexer": "ipython3",
   "version": "3.9.13"
  },
  "orig_nbformat": 4,
  "vscode": {
   "interpreter": {
    "hash": "f675732d597f42bb0438ce2c5e2877b55acd9e5ba267d3e24f04094c82602a22"
   }
  }
 },
 "nbformat": 4,
 "nbformat_minor": 2
}
