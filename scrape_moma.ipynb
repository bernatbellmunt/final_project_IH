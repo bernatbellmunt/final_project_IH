{
 "cells": [
  {
   "cell_type": "code",
   "execution_count": 1,
   "metadata": {},
   "outputs": [
    {
     "data": {
      "text/plain": [
       "'/Users/bernat/opt/anaconda3/envs/ironhack/lib/python3.9/site-packages/chromedriver_autoinstaller/107/chromedriver'"
      ]
     },
     "execution_count": 1,
     "metadata": {},
     "output_type": "execute_result"
    }
   ],
   "source": [
    "import chromedriver_autoinstaller\n",
    "chromedriver_autoinstaller.install()"
   ]
  },
  {
   "cell_type": "code",
   "execution_count": 2,
   "metadata": {},
   "outputs": [],
   "source": [
    "from selenium import webdriver\n",
    "from selenium.webdriver.common.keys import Keys\n",
    "from selenium.webdriver.common.by import By\n",
    "from selenium.webdriver.support.ui import WebDriverWait\n",
    "from selenium.webdriver.support import expected_conditions as EC\n",
    "from selenium import webdriver\n",
    "from selenium.webdriver.support.ui import Select\n",
    "\n",
    "from bs4 import BeautifulSoup\n",
    "import re as re\n",
    "import time\n",
    "import pandas as pd\n",
    "import os\n",
    "import numpy as np\n",
    "import requests\n",
    "import pymysql\n",
    "import sqlalchemy as alch\n",
    "from getpass import getpass\n",
    "\n",
    "import googletrans\n",
    "from nltk.sentiment.vader import SentimentIntensityAnalyzer\n",
    "import spacy\n",
    "\n"
   ]
  },
  {
   "cell_type": "code",
   "execution_count": 12,
   "metadata": {},
   "outputs": [
    {
     "name": "stdout",
     "output_type": "stream",
     "text": [
      "4609\n"
     ]
    },
    {
     "ename": "ElementNotInteractableException",
     "evalue": "Message: element not interactable\n  (Session info: chrome=107.0.5304.110)\nStacktrace:\n0   chromedriver                        0x00000001029bf938 chromedriver + 4745528\n1   chromedriver                        0x0000000102941443 chromedriver + 4228163\n2   chromedriver                        0x00000001025a49da chromedriver + 440794\n3   chromedriver                        0x00000001025e3103 chromedriver + 696579\n4   chromedriver                        0x00000001025d5f61 chromedriver + 642913\n5   chromedriver                        0x0000000102602d52 chromedriver + 826706\n6   chromedriver                        0x00000001025d56e5 chromedriver + 640741\n7   chromedriver                        0x0000000102602eae chromedriver + 827054\n8   chromedriver                        0x000000010261b144 chromedriver + 926020\n9   chromedriver                        0x0000000102602b83 chromedriver + 826243\n10  chromedriver                        0x00000001025d3a5d chromedriver + 633437\n11  chromedriver                        0x00000001025d50b1 chromedriver + 639153\n12  chromedriver                        0x000000010298d80e chromedriver + 4540430\n13  chromedriver                        0x0000000102991f76 chromedriver + 4558710\n14  chromedriver                        0x0000000102999a1f chromedriver + 4590111\n15  chromedriver                        0x0000000102992dca chromedriver + 4562378\n16  chromedriver                        0x00000001029689af chromedriver + 4389295\n17  chromedriver                        0x00000001029b0cb8 chromedriver + 4684984\n18  chromedriver                        0x00000001029b0e39 chromedriver + 4685369\n19  chromedriver                        0x00000001029c746e chromedriver + 4777070\n20  libsystem_pthread.dylib             0x00007ff8116194e1 _pthread_start + 125\n21  libsystem_pthread.dylib             0x00007ff811614f6b thread_start + 15\n",
     "output_type": "error",
     "traceback": [
      "\u001b[0;31m---------------------------------------------------------------------------\u001b[0m",
      "\u001b[0;31mElementNotInteractableException\u001b[0m           Traceback (most recent call last)",
      "\u001b[1;32m/Users/bernat/github_repo/final_project_IH/scrape_moma.ipynb Cell 3\u001b[0m in \u001b[0;36m<cell line: 23>\u001b[0;34m()\u001b[0m\n\u001b[1;32m     <a href='vscode-notebook-cell:/Users/bernat/github_repo/final_project_IH/scrape_moma.ipynb#W2sZmlsZQ%3D%3D?line=22'>23</a>\u001b[0m driver\u001b[39m.\u001b[39mexecute_script(\u001b[39m\"\u001b[39m\u001b[39mwindow.scrollTo(0, document.body.scrollHeight);\u001b[39m\u001b[39m\"\u001b[39m)\n\u001b[1;32m     <a href='vscode-notebook-cell:/Users/bernat/github_repo/final_project_IH/scrape_moma.ipynb#W2sZmlsZQ%3D%3D?line=23'>24</a>\u001b[0m time\u001b[39m.\u001b[39msleep(\u001b[39m5\u001b[39m)\n\u001b[0;32m---> <a href='vscode-notebook-cell:/Users/bernat/github_repo/final_project_IH/scrape_moma.ipynb#W2sZmlsZQ%3D%3D?line=24'>25</a>\u001b[0m driver\u001b[39m.\u001b[39;49mfind_element(By\u001b[39m.\u001b[39;49mCLASS_NAME,\u001b[39m'\u001b[39;49m\u001b[39mbutton-with-icon--plus\u001b[39;49m\u001b[39m'\u001b[39;49m)\u001b[39m.\u001b[39;49mclick()\n\u001b[1;32m     <a href='vscode-notebook-cell:/Users/bernat/github_repo/final_project_IH/scrape_moma.ipynb#W2sZmlsZQ%3D%3D?line=26'>27</a>\u001b[0m new_height \u001b[39m=\u001b[39m driver\u001b[39m.\u001b[39mexecute_script(\u001b[39m\"\u001b[39m\u001b[39mreturn document.body.scrollHeight\u001b[39m\u001b[39m\"\u001b[39m)\n\u001b[1;32m     <a href='vscode-notebook-cell:/Users/bernat/github_repo/final_project_IH/scrape_moma.ipynb#W2sZmlsZQ%3D%3D?line=27'>28</a>\u001b[0m \u001b[39mif\u001b[39;00m new_height \u001b[39m==\u001b[39m last_height:\n",
      "File \u001b[0;32m~/opt/anaconda3/envs/ironhack/lib/python3.9/site-packages/selenium/webdriver/remote/webelement.py:93\u001b[0m, in \u001b[0;36mWebElement.click\u001b[0;34m(self)\u001b[0m\n\u001b[1;32m     91\u001b[0m \u001b[39mdef\u001b[39;00m \u001b[39mclick\u001b[39m(\u001b[39mself\u001b[39m) \u001b[39m-\u001b[39m\u001b[39m>\u001b[39m \u001b[39mNone\u001b[39;00m:\n\u001b[1;32m     92\u001b[0m     \u001b[39m\"\"\"Clicks the element.\"\"\"\u001b[39;00m\n\u001b[0;32m---> 93\u001b[0m     \u001b[39mself\u001b[39;49m\u001b[39m.\u001b[39;49m_execute(Command\u001b[39m.\u001b[39;49mCLICK_ELEMENT)\n",
      "File \u001b[0;32m~/opt/anaconda3/envs/ironhack/lib/python3.9/site-packages/selenium/webdriver/remote/webelement.py:410\u001b[0m, in \u001b[0;36mWebElement._execute\u001b[0;34m(self, command, params)\u001b[0m\n\u001b[1;32m    408\u001b[0m     params \u001b[39m=\u001b[39m {}\n\u001b[1;32m    409\u001b[0m params[\u001b[39m\"\u001b[39m\u001b[39mid\u001b[39m\u001b[39m\"\u001b[39m] \u001b[39m=\u001b[39m \u001b[39mself\u001b[39m\u001b[39m.\u001b[39m_id\n\u001b[0;32m--> 410\u001b[0m \u001b[39mreturn\u001b[39;00m \u001b[39mself\u001b[39;49m\u001b[39m.\u001b[39;49m_parent\u001b[39m.\u001b[39;49mexecute(command, params)\n",
      "File \u001b[0;32m~/opt/anaconda3/envs/ironhack/lib/python3.9/site-packages/selenium/webdriver/remote/webdriver.py:444\u001b[0m, in \u001b[0;36mWebDriver.execute\u001b[0;34m(self, driver_command, params)\u001b[0m\n\u001b[1;32m    442\u001b[0m response \u001b[39m=\u001b[39m \u001b[39mself\u001b[39m\u001b[39m.\u001b[39mcommand_executor\u001b[39m.\u001b[39mexecute(driver_command, params)\n\u001b[1;32m    443\u001b[0m \u001b[39mif\u001b[39;00m response:\n\u001b[0;32m--> 444\u001b[0m     \u001b[39mself\u001b[39;49m\u001b[39m.\u001b[39;49merror_handler\u001b[39m.\u001b[39;49mcheck_response(response)\n\u001b[1;32m    445\u001b[0m     response[\u001b[39m\"\u001b[39m\u001b[39mvalue\u001b[39m\u001b[39m\"\u001b[39m] \u001b[39m=\u001b[39m \u001b[39mself\u001b[39m\u001b[39m.\u001b[39m_unwrap_value(response\u001b[39m.\u001b[39mget(\u001b[39m\"\u001b[39m\u001b[39mvalue\u001b[39m\u001b[39m\"\u001b[39m, \u001b[39mNone\u001b[39;00m))\n\u001b[1;32m    446\u001b[0m     \u001b[39mreturn\u001b[39;00m response\n",
      "File \u001b[0;32m~/opt/anaconda3/envs/ironhack/lib/python3.9/site-packages/selenium/webdriver/remote/errorhandler.py:249\u001b[0m, in \u001b[0;36mErrorHandler.check_response\u001b[0;34m(self, response)\u001b[0m\n\u001b[1;32m    247\u001b[0m         alert_text \u001b[39m=\u001b[39m value[\u001b[39m\"\u001b[39m\u001b[39malert\u001b[39m\u001b[39m\"\u001b[39m]\u001b[39m.\u001b[39mget(\u001b[39m\"\u001b[39m\u001b[39mtext\u001b[39m\u001b[39m\"\u001b[39m)\n\u001b[1;32m    248\u001b[0m     \u001b[39mraise\u001b[39;00m exception_class(message, screen, stacktrace, alert_text)  \u001b[39m# type: ignore[call-arg]  # mypy is not smart enough here\u001b[39;00m\n\u001b[0;32m--> 249\u001b[0m \u001b[39mraise\u001b[39;00m exception_class(message, screen, stacktrace)\n",
      "\u001b[0;31mElementNotInteractableException\u001b[0m: Message: element not interactable\n  (Session info: chrome=107.0.5304.110)\nStacktrace:\n0   chromedriver                        0x00000001029bf938 chromedriver + 4745528\n1   chromedriver                        0x0000000102941443 chromedriver + 4228163\n2   chromedriver                        0x00000001025a49da chromedriver + 440794\n3   chromedriver                        0x00000001025e3103 chromedriver + 696579\n4   chromedriver                        0x00000001025d5f61 chromedriver + 642913\n5   chromedriver                        0x0000000102602d52 chromedriver + 826706\n6   chromedriver                        0x00000001025d56e5 chromedriver + 640741\n7   chromedriver                        0x0000000102602eae chromedriver + 827054\n8   chromedriver                        0x000000010261b144 chromedriver + 926020\n9   chromedriver                        0x0000000102602b83 chromedriver + 826243\n10  chromedriver                        0x00000001025d3a5d chromedriver + 633437\n11  chromedriver                        0x00000001025d50b1 chromedriver + 639153\n12  chromedriver                        0x000000010298d80e chromedriver + 4540430\n13  chromedriver                        0x0000000102991f76 chromedriver + 4558710\n14  chromedriver                        0x0000000102999a1f chromedriver + 4590111\n15  chromedriver                        0x0000000102992dca chromedriver + 4562378\n16  chromedriver                        0x00000001029689af chromedriver + 4389295\n17  chromedriver                        0x00000001029b0cb8 chromedriver + 4684984\n18  chromedriver                        0x00000001029b0e39 chromedriver + 4685369\n19  chromedriver                        0x00000001029c746e chromedriver + 4777070\n20  libsystem_pthread.dylib             0x00007ff8116194e1 _pthread_start + 125\n21  libsystem_pthread.dylib             0x00007ff811614f6b thread_start + 15\n"
     ]
    }
   ],
   "source": [
    "import os\n",
    "\n",
    "number_range = 1802\n",
    "\n",
    "images = []\n",
    "artist = []\n",
    "titles = []\n",
    "years = []\n",
    "\n",
    "for number in range (number_range):\n",
    "    url = f\"https://www.moma.org/collection/?=undefined&page={number}&direction=fwd\"\n",
    "\n",
    "\n",
    "url \n",
    "\n",
    "\n",
    "#OK -> this function will give me the links of the images\n",
    "\n"
   ]
  },
  {
   "cell_type": "code",
   "execution_count": 32,
   "metadata": {},
   "outputs": [
    {
     "data": {
      "text/plain": [
       "['Access denied',\n",
       " 'Error code 1020',\n",
       " '1020',\n",
       " '76ebde4acfff99a2',\n",
       " '76ebde4acfff99a2',\n",
       " 'Copy']"
      ]
     },
     "execution_count": 32,
     "metadata": {},
     "output_type": "execute_result"
    }
   ],
   "source": [
    "def scrape_website(url, word):\n",
    "    '''This function takes the url of a website with titles and text\n",
    "    and returns what you search for with word\n",
    "    '''\n",
    "    \n",
    "    website = requests.get(url)\n",
    "    soup = BeautifulSoup(website.content, 'html.parser')\n",
    "    \n",
    "    tags =soup.find_all(word)\n",
    "    \n",
    "    return [c.getText().replace(\">\", \"\").strip() for c in soup.find_all(word)]\n",
    "\n",
    "url = \"https://www.moma.org/collection/?=undefined&page=1&direction=fwd\"\n",
    "scrape_website(url, \"span\")"
   ]
  },
  {
   "cell_type": "code",
   "execution_count": 30,
   "metadata": {},
   "outputs": [],
   "source": [
    "url = \"https://www.moma.org/collection/?=undefined&page=1&direction=fwd\"\n",
    "word = \"span\"\n",
    "\n",
    "website = requests.get(url)\n",
    "\n",
    "soup = BeautifulSoup(website.content, 'html.parser')\n",
    "    \n",
    "tags =soup.find_all(word)"
   ]
  },
  {
   "cell_type": "code",
   "execution_count": 31,
   "metadata": {},
   "outputs": [
    {
     "data": {
      "text/plain": [
       "[<span class=\"error-description\">Access denied</span>,\n",
       " <span class=\"code-label\">Error code <span>1020</span></span>,\n",
       " <span>1020</span>,\n",
       " <span class=\"plain-ray-id\" id=\"plain-ray-id\">\n",
       "                   76ebddbb3ca3041c\n",
       "                </span>,\n",
       " <span class=\"ray-id\">76ebddbb3ca3041c</span>,\n",
       " <span class=\"copy-label\" id=\"copy-label\">Copy</span>]"
      ]
     },
     "execution_count": 31,
     "metadata": {},
     "output_type": "execute_result"
    }
   ],
   "source": [
    "tags"
   ]
  },
  {
   "cell_type": "code",
   "execution_count": null,
   "metadata": {},
   "outputs": [],
   "source": [
    "\"\"\"url = f\"https://www.moma.org/collection/?=undefined&page={number}&direction=fwd\"\n",
    "\n",
    "options = webdriver.ChromeOptions()\n",
    "\n",
    "options.add_argument(\"--incognito\")\n",
    "#options.add_argument(\"--headless\")\n",
    "\n",
    "driver = webdriver.Chrome(options = options)\n",
    "driver.get(url)\n",
    "\n",
    "#WebDriverWait(driver, 15).until(EC.element_to_be_clickable((By.ID, \"onetrust-accept-btn-handler\"))).click()\n",
    "\n",
    "\n",
    "#driver.execute_script(\"document.querySelector('footer').style.display = 'None';\")\n",
    "start = time.time()\n",
    "\n",
    "last_height = driver.execute_script(\"return document.body.scrollHeight\")\n",
    "print(last_height)\n",
    "while True:\n",
    "\n",
    "    driver.execute_script(\"window.scrollTo(0, document.body.scrollHeight);\")\n",
    "    time.sleep(5)\n",
    "    driver.find_element(By.CLASS_NAME,'button-with-icon--plus').click()\n",
    "    \n",
    "    new_height = driver.execute_script(\"return document.body.scrollHeight\")\n",
    "    if new_height == last_height:\n",
    "        break\n",
    "    last_height = new_height\n",
    "    end = time.time()\n",
    "    if round(end-start) > 70:\n",
    "        break\n",
    "\n",
    "\n",
    "\n",
    "html = driver.execute_script(\"return document.body.outerHTML;\")\n",
    "\n",
    "\"\"\""
   ]
  }
 ],
 "metadata": {
  "kernelspec": {
   "display_name": "ironhack",
   "language": "python",
   "name": "python3"
  },
  "language_info": {
   "codemirror_mode": {
    "name": "ipython",
    "version": 3
   },
   "file_extension": ".py",
   "mimetype": "text/x-python",
   "name": "python",
   "nbconvert_exporter": "python",
   "pygments_lexer": "ipython3",
   "version": "3.9.13"
  },
  "orig_nbformat": 4,
  "vscode": {
   "interpreter": {
    "hash": "f675732d597f42bb0438ce2c5e2877b55acd9e5ba267d3e24f04094c82602a22"
   }
  }
 },
 "nbformat": 4,
 "nbformat_minor": 2
}
